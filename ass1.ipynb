{
  "nbformat": 4,
  "nbformat_minor": 0,
  "metadata": {
    "colab": {
      "name": "ass1.ipynb",
      "provenance": [],
      "collapsed_sections": []
    },
    "kernelspec": {
      "name": "python3",
      "display_name": "Python 3"
    },
    "language_info": {
      "name": "python"
    }
  },
  "cells": [
    {
      "cell_type": "code",
      "execution_count": null,
      "metadata": {
        "id": "VttfG-lMy6UT"
      },
      "outputs": [],
      "source": [
        "from keras.datasets import fashion_mnist"
      ]
    },
    {
      "cell_type": "code",
      "source": [
        "(train_images, train_labels),(test_images, test_labels) = fashion_mnist.load_data()"
      ],
      "metadata": {
        "colab": {
          "base_uri": "https://localhost:8080/"
        },
        "id": "LF-jfzOUz5B1",
        "outputId": "34c4a59a-d6fd-483d-adc9-1bc9647d0edb"
      },
      "execution_count": null,
      "outputs": [
        {
          "output_type": "stream",
          "name": "stdout",
          "text": [
            "Downloading data from https://storage.googleapis.com/tensorflow/tf-keras-datasets/train-labels-idx1-ubyte.gz\n",
            "32768/29515 [=================================] - 0s 0us/step\n",
            "40960/29515 [=========================================] - 0s 0us/step\n",
            "Downloading data from https://storage.googleapis.com/tensorflow/tf-keras-datasets/train-images-idx3-ubyte.gz\n",
            "26427392/26421880 [==============================] - 0s 0us/step\n",
            "26435584/26421880 [==============================] - 0s 0us/step\n",
            "Downloading data from https://storage.googleapis.com/tensorflow/tf-keras-datasets/t10k-labels-idx1-ubyte.gz\n",
            "16384/5148 [===============================================================================================] - 0s 0us/step\n",
            "Downloading data from https://storage.googleapis.com/tensorflow/tf-keras-datasets/t10k-images-idx3-ubyte.gz\n",
            "4423680/4422102 [==============================] - 0s 0us/step\n",
            "4431872/4422102 [==============================] - 0s 0us/step\n"
          ]
        }
      ]
    },
    {
      "cell_type": "code",
      "source": [
        "#Q1. What are the dimensions of train_images, train_labels, test_images, and test_labels?"
      ],
      "metadata": {
        "id": "m4XsIOG3zR2Z"
      },
      "execution_count": null,
      "outputs": []
    },
    {
      "cell_type": "code",
      "source": [
        "print(train_images.ndim)\n",
        "print(train_labels.ndim)\n",
        "print(test_images.ndim)\n",
        "print(test_labels.ndim)"
      ],
      "metadata": {
        "colab": {
          "base_uri": "https://localhost:8080/"
        },
        "id": "haL_AuFrzYIr",
        "outputId": "c4015612-4544-4331-896e-06311298951d"
      },
      "execution_count": null,
      "outputs": [
        {
          "output_type": "stream",
          "name": "stdout",
          "text": [
            "3\n",
            "1\n",
            "3\n",
            "1\n"
          ]
        }
      ]
    },
    {
      "cell_type": "code",
      "source": [
        "# Q2. What are the lengths of train_labels and test_labels?"
      ],
      "metadata": {
        "id": "0VOTrq-g0AIM"
      },
      "execution_count": null,
      "outputs": []
    },
    {
      "cell_type": "code",
      "source": [
        "len(train_labels)\n"
      ],
      "metadata": {
        "colab": {
          "base_uri": "https://localhost:8080/"
        },
        "id": "MC5MdP-d0CRZ",
        "outputId": "dcf4f178-07ba-465e-dca7-bb9239df7632"
      },
      "execution_count": null,
      "outputs": [
        {
          "output_type": "execute_result",
          "data": {
            "text/plain": [
              "60000"
            ]
          },
          "metadata": {},
          "execution_count": 15
        }
      ]
    },
    {
      "cell_type": "code",
      "source": [
        "len(test_labels)"
      ],
      "metadata": {
        "colab": {
          "base_uri": "https://localhost:8080/"
        },
        "id": "0-ZLxsd7BI8B",
        "outputId": "90a8d9e9-3349-4fd0-d861-ac6c9bf55c36"
      },
      "execution_count": null,
      "outputs": [
        {
          "output_type": "execute_result",
          "data": {
            "text/plain": [
              "10000"
            ]
          },
          "metadata": {},
          "execution_count": 16
        }
      ]
    },
    {
      "cell_type": "code",
      "source": [
        "# Q3. Please show some of train and test labels."
      ],
      "metadata": {
        "id": "zthBJlM80FdA"
      },
      "execution_count": null,
      "outputs": []
    },
    {
      "cell_type": "code",
      "source": [
        "train_labels "
      ],
      "metadata": {
        "colab": {
          "base_uri": "https://localhost:8080/"
        },
        "id": "qr335fZ50HTy",
        "outputId": "207a0a08-6780-4c70-cef3-f04f063d18a8"
      },
      "execution_count": null,
      "outputs": [
        {
          "output_type": "execute_result",
          "data": {
            "text/plain": [
              "array([9, 0, 0, ..., 3, 0, 5], dtype=uint8)"
            ]
          },
          "metadata": {},
          "execution_count": 17
        }
      ]
    },
    {
      "cell_type": "code",
      "source": [
        "test_labels"
      ],
      "metadata": {
        "colab": {
          "base_uri": "https://localhost:8080/"
        },
        "id": "RFR0svovBOjc",
        "outputId": "cd07999a-3cce-4b38-e256-752760f2d523"
      },
      "execution_count": null,
      "outputs": [
        {
          "output_type": "execute_result",
          "data": {
            "text/plain": [
              "array([9, 2, 1, ..., 8, 1, 5], dtype=uint8)"
            ]
          },
          "metadata": {},
          "execution_count": 18
        }
      ]
    },
    {
      "cell_type": "code",
      "source": [
        "# Q4. Please show the digital content of image index 5 in the training dataset."
      ],
      "metadata": {
        "id": "LGxgQ5nV0JSs"
      },
      "execution_count": null,
      "outputs": []
    },
    {
      "cell_type": "code",
      "source": [
        "index_five_train = train_images[5]\n",
        "index_five_train"
      ],
      "metadata": {
        "colab": {
          "base_uri": "https://localhost:8080/"
        },
        "id": "CYqPbIH30L4C",
        "outputId": "58d40041-21d5-4bc6-d203-e9f241b8c861"
      },
      "execution_count": null,
      "outputs": [
        {
          "output_type": "execute_result",
          "data": {
            "text/plain": [
              "array([[  0,   0,   0,   0,   1,   0,   0,   0,   0,  22,  88, 188, 172,\n",
              "        132, 125, 141, 199, 143,   9,   0,   0,   0,   1,   0,   0,   0,\n",
              "          0,   0],\n",
              "       [  0,   0,   0,   1,   0,   0,  20, 131, 199, 206, 196, 202, 242,\n",
              "        255, 255, 250, 222, 197, 206, 188, 126,  17,   0,   0,   0,   0,\n",
              "          0,   0],\n",
              "       [  0,   0,   0,   1,   0,  35, 214, 191, 183, 178, 175, 168, 150,\n",
              "        162, 159, 152, 158, 179, 183, 189, 195, 185,  82,   0,   0,   0,\n",
              "          0,   0],\n",
              "       [  0,   0,   0,   0,   0, 170, 190, 172, 177, 176, 171, 169, 162,\n",
              "        155, 148, 154, 169, 174, 175, 175, 177, 183, 188,  12,   0,   0,\n",
              "          0,   0],\n",
              "       [  0,   0,   0,   0,  25, 194, 180, 178, 174, 184, 187, 189, 187,\n",
              "        184, 181, 189, 200, 197, 193, 190, 178, 175, 194,  90,   0,   0,\n",
              "          0,   0],\n",
              "       [  0,   0,   0,   0,  42, 218, 191, 197, 208, 204, 211, 209, 210,\n",
              "        212, 211, 214, 215, 213, 214, 211, 211, 191, 200, 158,   0,   0,\n",
              "          0,   0],\n",
              "       [  0,   0,   0,   0,  88, 221, 215, 217, 219, 211, 185, 150, 118,\n",
              "        107,  99,  88,  83,  90, 135, 212, 203, 207, 219, 169,   0,   0,\n",
              "          0,   0],\n",
              "       [  0,   0,   0,   0,   0,  27, 118, 162,  40,   0,   0,   0,  10,\n",
              "         19,  28,  39,  47,  36,   0,   0, 203, 230, 220, 203,   0,   0,\n",
              "          0,   0],\n",
              "       [  0,   0,   0,   0, 138, 136,  71,  69,  54, 216, 217, 203, 184,\n",
              "        168, 163, 162, 163, 178, 221, 186,  38,  26,   7,   0,   0,   0,\n",
              "          0,   0],\n",
              "       [  0,   0,   0,   0,  67, 134, 154, 224, 129,  66,  81, 117, 129,\n",
              "        128, 132, 137, 131, 129,  86,  73, 157, 151, 134, 216,  18,   0,\n",
              "          0,   0],\n",
              "       [  0,   0,   0,   0, 203, 198, 172, 183, 206, 255, 255, 250, 243,\n",
              "        240, 239, 235, 238, 244, 255, 238, 184, 160,  86,  98,   0,   0,\n",
              "          0,   0],\n",
              "       [  0,   0,   0,   0, 122, 188, 224, 151, 105, 127,  97, 100, 105,\n",
              "        114, 117, 117, 113, 103,  98, 111, 142, 254, 191, 255,  49,   0,\n",
              "          0,   0],\n",
              "       [  0,   0,   0,   0, 163, 179, 200,  95, 154, 198, 197, 200, 200,\n",
              "        198, 197, 198, 199, 202, 200, 176,  86, 206, 157, 162,  10,   0,\n",
              "          0,   0],\n",
              "       [  0,   0,   0,   0, 197, 201, 229,  71, 144, 194, 181, 183, 179,\n",
              "        182, 180, 179, 180, 190, 185, 197,  76, 219, 185, 201,  34,   0,\n",
              "          0,   0],\n",
              "       [  0,   0,   0,   0, 199, 193, 226,  58, 154, 192, 184, 187, 184,\n",
              "        186, 184, 185, 183, 192, 191, 200,  56, 219, 203, 207,  60,   0,\n",
              "          0,   0],\n",
              "       [  0,   0,   0,   0, 201, 194, 224,  41, 163, 190, 186, 186, 184,\n",
              "        185, 183, 185, 178, 190, 194, 202,  33, 211, 200, 206,  73,   0,\n",
              "          0,   0],\n",
              "       [  0,   0,   0,   0, 201, 197, 222,  17, 172, 190, 186, 187, 182,\n",
              "        186, 185, 187, 180, 187, 193, 202,  26, 212, 202, 203,  76,   0,\n",
              "          0,   0],\n",
              "       [  0,   0,   0,   0, 200, 197, 223,   0, 177, 189, 184, 185, 178,\n",
              "        184, 183, 184, 180, 183, 189, 203,  35, 196, 203, 203,  84,   0,\n",
              "          0,   0],\n",
              "       [  0,   0,   0,   0, 200, 197, 223,   0, 185, 187, 185, 187, 180,\n",
              "        184, 182, 183, 178, 182, 183, 205,  44, 159, 207, 201,  85,   0,\n",
              "          0,   0],\n",
              "       [  0,   0,   0,   0, 187, 198, 225,   0, 194, 188, 184, 185, 180,\n",
              "        183, 183, 184, 181, 181, 177, 206,  46, 129, 211, 200,  88,   0,\n",
              "          0,   0],\n",
              "       [  0,   0,   0,   6, 186, 200, 211,   0, 199, 189, 184, 184, 185,\n",
              "        182, 183, 184, 185, 182, 175, 205,  50,  97, 216, 197,  93,   0,\n",
              "          0,   0],\n",
              "       [  0,   0,   0,   5, 185, 204, 184,   0, 202, 188, 182, 182, 183,\n",
              "        183, 184, 182, 180, 182, 174, 202,  63,  59, 220, 196,  94,   0,\n",
              "          0,   0],\n",
              "       [  0,   0,   0,   5, 184, 206, 157,   0, 204, 187, 187, 189, 192,\n",
              "        190, 190, 191, 190, 187, 183, 202,  78,  35, 222, 197,  95,   0,\n",
              "          0,   0],\n",
              "       [  0,   0,   0,   5, 183, 208, 127,   0, 197, 166, 153, 149, 149,\n",
              "        146, 148, 149, 150, 151, 158, 191,  90,   8, 223, 195,  99,   0,\n",
              "          0,   0],\n",
              "       [  0,   0,   0,   6, 184, 208, 114,   0, 204, 173, 161, 180, 176,\n",
              "        172, 173, 173, 174, 176, 162, 202, 115,   0, 229, 199, 105,   0,\n",
              "          0,   0],\n",
              "       [  0,   0,   0,   9, 178, 204, 115,   0, 121, 135, 114, 117, 114,\n",
              "        114, 117, 118, 119, 117, 113, 147,  63,   0, 225, 196, 107,   0,\n",
              "          0,   0],\n",
              "       [  0,   0,   0,  18, 180, 206, 131,   0,   0,   0,   0,   0,   0,\n",
              "          0,   0,   0,   0,   0,   0,   0,   0,   0, 224, 197, 123,   0,\n",
              "          0,   0],\n",
              "       [  0,   0,   0,   0, 141, 151,  76,   0,   1,   1,   0,   0,   0,\n",
              "          0,   0,   0,   0,   0,   0,   0,   0,   0, 133, 167,  73,   0,\n",
              "          0,   0]], dtype=uint8)"
            ]
          },
          "metadata": {},
          "execution_count": 20
        }
      ]
    },
    {
      "cell_type": "code",
      "source": [
        "# Q5 Please plot the image of the index 5 in the training dataset."
      ],
      "metadata": {
        "id": "wIyhfbtz0Osx"
      },
      "execution_count": null,
      "outputs": []
    },
    {
      "cell_type": "code",
      "source": [
        "import matplotlib.pyplot as plt\n",
        "plt.imshow(index_five_train, cmap=plt.cm.binary)\n",
        "plt.show()"
      ],
      "metadata": {
        "colab": {
          "base_uri": "https://localhost:8080/",
          "height": 265
        },
        "id": "sifNLvER0QpA",
        "outputId": "12675ef7-1467-486e-c308-cee1538a9897"
      },
      "execution_count": null,
      "outputs": [
        {
          "output_type": "display_data",
          "data": {
            "image/png": "[encoded data removed]",
            "text/plain": [
              "<Figure size 432x288 with 1 Axes>"
            ]
          },
          "metadata": {
            "needs_background": "light"
          }
        }
      ]
    },
    {
      "cell_type": "code",
      "source": [
        "# Q6. What is the label for the index 5 in the train_label and looking up in the above list, what does it mean?"
      ],
      "metadata": {
        "id": "ahSuIq4x0XEi"
      },
      "execution_count": null,
      "outputs": []
    },
    {
      "cell_type": "code",
      "source": [
        "train_labels[5]"
      ],
      "metadata": {
        "colab": {
          "base_uri": "https://localhost:8080/"
        },
        "id": "AMQSDqHQ0Yuj",
        "outputId": "084f336e-c1b5-43ef-c450-bb3f29171bb5"
      },
      "execution_count": null,
      "outputs": [
        {
          "output_type": "execute_result",
          "data": {
            "text/plain": [
              "2"
            ]
          },
          "metadata": {},
          "execution_count": 10
        }
      ]
    },
    {
      "cell_type": "code",
      "source": [
        "# Q7. Please show the digital content of image index 500 in the testing dataset."
      ],
      "metadata": {
        "id": "66G8u-DJ0m15"
      },
      "execution_count": null,
      "outputs": []
    },
    {
      "cell_type": "code",
      "source": [
        "test_images[500]"
      ],
      "metadata": {
        "colab": {
          "base_uri": "https://localhost:8080/"
        },
        "id": "mZuFv5i70o4z",
        "outputId": "b6b39028-bea3-47b5-8143-418b5d35e909"
      },
      "execution_count": null,
      "outputs": [
        {
          "output_type": "execute_result",
          "data": {
            "text/plain": [
              "array([[  0,   0,   0,   0,   0,   0,   0,   0,   0,   0, 108,  93,  38,\n",
              "          0,   0,   0,   8,  76, 140,  34,   0,   0,   0,   1,   1,   0,\n",
              "          0,   0],\n",
              "       [  0,   0,   0,   0,   0,   0,   0,  30,  92,  69, 192, 183, 149,\n",
              "        214, 177, 194, 227, 154, 206, 143,  79,  46,   0,   0,   0,   0,\n",
              "          0,   0],\n",
              "       [  0,   0,   0,   0,   0,   0,  59, 127, 116,  85,  63, 184, 128,\n",
              "        104,   0,  10, 126, 138, 145,  59, 104, 118,  86,   0,   0,   0,\n",
              "          0,   0],\n",
              "       [  0,   0,   0,   0,   0,   3,  99,  92,  81,  81,  54,  67, 222,\n",
              "        255, 209, 206, 178, 184,  72,  69,  97,  97, 118,  24,   0,   2,\n",
              "          0,   0],\n",
              "       [  0,   0,   1,   1,   0,  60, 121, 138,  83,  64,  76,  68,  23,\n",
              "         35,  55,  52,  46,  36,  65,  72,  72,  76, 102, 110,   0,   0,\n",
              "          0,   0],\n",
              "       [  0,   0,   0,   0,   0, 112,  89,  52,  89,  72,  67,  69,  81,\n",
              "         73,  60,  71,  64,  55,  52,  73,  77,  88, 104, 108,  10,   0,\n",
              "          1,   0],\n",
              "       [  0,   0,   0,   0,  21, 110, 143, 131,  55, 181, 128,  54,  36,\n",
              "        158, 185,  44,  74, 150, 154,  71,  96,  88, 105, 131,  50,   0,\n",
              "          0,   0],\n",
              "       [  0,   0,   2,   0,  52, 139,  90,  99,  77, 187, 134, 238,  68,\n",
              "        203, 127,  31, 158, 165, 191,  73,  95,  83,  86,  91,  85,   0,\n",
              "          0,   0],\n",
              "       [  0,   0,   0,   0,  97, 104, 119, 135,  95, 137, 156, 209, 158,\n",
              "        185,  67,  91, 199, 150, 218, 123,  78, 106,  91, 129, 106,   0,\n",
              "          0,   0],\n",
              "       [  0,   0,   0,   0, 109,  97, 129, 109,  80, 154, 183, 153, 178,\n",
              "        170,  78, 178, 228, 156, 214, 135, 112,  92,  91, 101, 127,   4,\n",
              "          0,   0],\n",
              "       [  0,   0,   0,  10, 125, 102, 120, 146,  99, 189, 238,  76, 139,\n",
              "        111,  63, 238, 172,  48, 249,  91,  79,  79, 146, 110, 111,  35,\n",
              "          0,   0],\n",
              "       [  0,   0,   0,  32, 147,  78, 156, 143,  55, 165, 175,  64, 142,\n",
              "        114,  62, 152, 107,  68, 213,  90, 108, 155, 211,  74, 143,  53,\n",
              "          0,   0],\n",
              "       [  0,   0,   0,  46, 127, 105, 124, 246,  90,  69,  74, 101, 112,\n",
              "         79,  99, 112,  81,  96, 184,  97,  77, 112, 172,  65, 119, 100,\n",
              "          0,   0],\n",
              "       [  0,   0,   0,  87, 143, 107, 112, 213,  70, 116, 230,  83, 154,\n",
              "        146, 150, 223,  65,  93, 196, 121,  89, 146, 193,  92, 108, 105,\n",
              "          0,   0],\n",
              "       [  0,   0,   0,  97, 125, 125, 124, 157,  60, 119, 250,  70, 180,\n",
              "        158, 134, 177, 163, 107, 225,  82,  85, 167, 178,  87, 123, 114,\n",
              "          0,   0],\n",
              "       [  0,   0,   0, 107, 102, 135, 142, 117,  78, 123, 229,  36, 121,\n",
              "        129, 119, 162, 223, 117, 154,  88,  79, 186, 164,  68, 116, 129,\n",
              "         22,   0],\n",
              "       [  0,   0,  14, 116, 107, 133, 154, 124,  71, 156, 193,  85, 181,\n",
              "         92, 121, 167, 194, 185, 119,  78, 101, 138, 163, 105, 118, 101,\n",
              "         27,   0],\n",
              "       [  0,   0,  15, 117, 108, 117, 180, 129,  76, 117, 189, 208, 211,\n",
              "        105, 161, 187, 190, 221,  97,  98, 107,  93, 118, 104, 124, 128,\n",
              "         39,   0],\n",
              "       [  0,   0,  15, 112,  96, 114, 167, 115, 101,  81, 181, 170, 216,\n",
              "        154, 181, 193, 176, 220,  72, 107,  93, 102,  97, 120, 129, 111,\n",
              "         50,   0],\n",
              "       [  0,   0,  23, 129, 110, 121, 178,  80,  85, 109,  70,  63,  76,\n",
              "        108,  92,  60,  68,  65, 105,  90, 116,  91, 105, 102, 105, 110,\n",
              "         40,   0],\n",
              "       [  0,   0,  38, 119, 102, 142, 158,  97, 104, 100, 121, 119, 107,\n",
              "        121, 120,  89,  96, 127, 101,  99, 107,  95, 139, 163,  98, 108,\n",
              "         53,   0],\n",
              "       [  0,   0,  21, 102,  97, 148,  93,  80, 124,  92,  97,  99, 109,\n",
              "        131, 126, 109, 107, 104,  97, 104,  92, 106,  76, 165, 124, 129,\n",
              "         63,   0],\n",
              "       [  0,   0,  39, 106, 111, 130,  72, 104,  85,  96,  97,  96, 104,\n",
              "        129, 116,  88,  96,  99, 101,  90, 116, 106,  44, 147, 127, 106,\n",
              "         42,   0],\n",
              "       [  0,   0,  45, 131, 158,  83,  51, 128,  86, 101, 108, 100, 110,\n",
              "        137, 123,  91,  93, 114, 102, 108, 106, 117,  33, 125, 137, 101,\n",
              "         52,   0],\n",
              "       [  0,   0,  43,  87, 123,  79,  58, 116, 110,  81, 105, 119, 120,\n",
              "        140, 124, 115, 125, 110,  90, 110,  83, 140,   8,  99, 152, 117,\n",
              "         69,   0],\n",
              "       [  0,   0,  49, 121, 155,  51,  42, 116,  95,  97,  95,  93, 108,\n",
              "        147, 117,  83,  90,  89, 104,  97,  93, 131,   0,  67, 153,  95,\n",
              "         57,   0],\n",
              "       [  0,   0,  42,  93, 143,  19,  49, 112,  89, 101, 107,  99, 104,\n",
              "        145, 135,  97, 108, 112,  96,  96,  99, 128,   0,  27, 152,  92,\n",
              "         62,   0],\n",
              "       [  0,   0,  58,  91, 143,  10,  34,  88,  44,  63,  72,  68,  64,\n",
              "         71,  70,  62,  69,  59,  55,  77,  71, 112,   0,  20, 138,  89,\n",
              "         65,   0]], dtype=uint8)"
            ]
          },
          "metadata": {},
          "execution_count": 11
        }
      ]
    },
    {
      "cell_type": "code",
      "source": [
        "# Q8. Please plot the image of the index 500 in the testing dataset."
      ],
      "metadata": {
        "id": "Oum0vVGy0rn7"
      },
      "execution_count": null,
      "outputs": []
    },
    {
      "cell_type": "code",
      "source": [
        "index_500_test = test_images[500]\n",
        "import matplotlib.pyplot as plt\n",
        "plt.imshow(index_500_test, cmap=plt.cm.binary)\n",
        "plt.show()"
      ],
      "metadata": {
        "colab": {
          "base_uri": "https://localhost:8080/",
          "height": 265
        },
        "id": "OWM_Y_tp0wDd",
        "outputId": "bc1c90b1-a973-4ec6-c8e0-6d14d16ce389"
      },
      "execution_count": null,
      "outputs": [
        {
          "output_type": "display_data",
          "data": {
            "image/png": "[encoded data removed]",
            "text/plain": [
              "<Figure size 432x288 with 1 Axes>"
            ]
          },
          "metadata": {
            "needs_background": "light"
          }
        }
      ]
    },
    {
      "cell_type": "code",
      "source": [
        "# Q9. What is the label for the index 500 in the test_label and looking up in the above list, what does it mean?"
      ],
      "metadata": {
        "id": "BQBHv15R0zCz"
      },
      "execution_count": null,
      "outputs": []
    },
    {
      "cell_type": "code",
      "source": [
        "test_labels[500]"
      ],
      "metadata": {
        "colab": {
          "base_uri": "https://localhost:8080/"
        },
        "id": "doSdysBN01Vd",
        "outputId": "fc60568f-26d4-477b-f9cb-ab4d2d238120"
      },
      "execution_count": null,
      "outputs": [
        {
          "output_type": "execute_result",
          "data": {
            "text/plain": [
              "2"
            ]
          },
          "metadata": {},
          "execution_count": 23
        }
      ]
    },
    {
      "cell_type": "code",
      "source": [
        "# Q10. Please import models and layers from the keras library."
      ],
      "metadata": {
        "id": "_NI53Lzm0726"
      },
      "execution_count": null,
      "outputs": []
    },
    {
      "cell_type": "code",
      "source": [
        "from keras import models\n",
        "from keras import layers"
      ],
      "metadata": {
        "id": "lVA1zUv6098z"
      },
      "execution_count": null,
      "outputs": []
    },
    {
      "cell_type": "code",
      "source": [
        "# Q11. Define a sequential model and call it myNetwork."
      ],
      "metadata": {
        "id": "oyBtz0l91AI_"
      },
      "execution_count": null,
      "outputs": []
    },
    {
      "cell_type": "code",
      "source": [
        "myNetwork = models.Sequential()"
      ],
      "metadata": {
        "id": "tAlSrovY1BuJ"
      },
      "execution_count": null,
      "outputs": []
    },
    {
      "cell_type": "code",
      "source": [
        "# Q12.Reshape the images from 28x28 to one column with 784 neurons (flattening) (use 2 methods, one from the book and one from the 20-minute video)."
      ],
      "metadata": {
        "id": "dP-PC0LE1Dz6"
      },
      "execution_count": null,
      "outputs": []
    },
    {
      "cell_type": "code",
      "source": [
        "#Q12.(continued) ....method from book to reshape the images"
      ],
      "metadata": {
        "id": "_fdhKsXf1jJl"
      },
      "execution_count": null,
      "outputs": []
    },
    {
      "cell_type": "code",
      "source": [
        "train_images = train_images.reshape(60000, 784)\n",
        "test_images = test_images.reshape(10000, 784)"
      ],
      "metadata": {
        "id": "hqDKOyzs-wLz"
      },
      "execution_count": null,
      "outputs": []
    },
    {
      "cell_type": "code",
      "source": [
        "#Q12.(continued) .... method from video to flattening the images"
      ],
      "metadata": {
        "id": "_4wQTrB41n7O"
      },
      "execution_count": null,
      "outputs": []
    },
    {
      "cell_type": "code",
      "source": [
        "import tensorflow as tf\n",
        "myNetwork = tf.keras.models.Sequential()\n",
        "myNetwork.add(tf.keras.layers.Flatten())"
      ],
      "metadata": {
        "id": "H6OGs3mX1qXU"
      },
      "execution_count": null,
      "outputs": []
    },
    {
      "cell_type": "code",
      "source": [
        "# Q13. Also, please normalize the image by dividing the image by 255 (use 2 methods, one from the book and one from the 20-minute video)."
      ],
      "metadata": {
        "id": "nC2q2ode2KhT"
      },
      "execution_count": null,
      "outputs": []
    },
    {
      "cell_type": "code",
      "source": [
        "# Q13.(continued) ....method from book to normalize the images\n",
        "train_images = train_images.astype('float32') / 255\n",
        "test_images = test_images.astype('float32') / 255"
      ],
      "metadata": {
        "id": "2bXF-d5e2Nw1"
      },
      "execution_count": null,
      "outputs": []
    },
    {
      "cell_type": "code",
      "source": [
        "# Q13.(continued) ....method from video to normalize the images\n",
        "train_images = tf.keras.utils.normalize(train_images, axis=1)\n",
        "test_images = tf.keras.utils.normalize(test_images, axis=1)"
      ],
      "metadata": {
        "id": "3Capn3zG2P_k"
      },
      "execution_count": null,
      "outputs": []
    },
    {
      "cell_type": "code",
      "source": [
        "# Q14. Add one hidden layer that has 512 neurons, using ‘relu’ activation function."
      ],
      "metadata": {
        "id": "i6-nadFx2SVO"
      },
      "execution_count": null,
      "outputs": []
    },
    {
      "cell_type": "code",
      "source": [
        "myNetwork.add(layers.Dense(512, activation=tf.nn.relu))"
      ],
      "metadata": {
        "id": "3YM_kkZc2URt"
      },
      "execution_count": null,
      "outputs": []
    },
    {
      "cell_type": "code",
      "source": [
        "# Q15. Add another hidden layer that has 128 neurons, using ‘relu’ activation function."
      ],
      "metadata": {
        "id": "G9TWBn1w2WCc"
      },
      "execution_count": null,
      "outputs": []
    },
    {
      "cell_type": "code",
      "source": [
        "myNetwork.add(layers.Dense(128, activation=tf.nn.relu))"
      ],
      "metadata": {
        "id": "2wpEELMo2Y28"
      },
      "execution_count": null,
      "outputs": []
    },
    {
      "cell_type": "code",
      "source": [
        "# Q16. Add the last layer as a 10-neuron dense layer that uses the ‘softmax’ as the activation function. # Q16. Add the last layer as a 10-neuron dense layer that uses the ‘softmax’ as the activation function. Why we use softmax for the last layer? How does it work under the hood?"
      ],
      "metadata": {
        "id": "ssIGXP4F2Zv-"
      },
      "execution_count": null,
      "outputs": []
    },
    {
      "cell_type": "code",
      "source": [
        "myNetwork.add(layers.Dense(10, activation=tf.nn.softmax))"
      ],
      "metadata": {
        "id": "b47eeRf82c6K"
      },
      "execution_count": null,
      "outputs": []
    },
    {
      "cell_type": "code",
      "source": [
        "# Question 17 - Use the following two settings for the compiler and run them separately and see what the differences are. \n",
        "# •\tOptimizer   adam,  loss 'sparse_categorical_crossentropy', metrics[‘accuracy’]"
      ],
      "metadata": {
        "id": "-W71PneP5jVz"
      },
      "execution_count": null,
      "outputs": []
    },
    {
      "cell_type": "code",
      "source": [
        "myNetwork.compile(optimizer='adam', loss='sparse_categorical_crossentropy', metrics=['accuracy']) "
      ],
      "metadata": {
        "id": "AeohX3yhAb5k"
      },
      "execution_count": null,
      "outputs": []
    },
    {
      "cell_type": "code",
      "source": [
        "# Q18. Now after the compilation, please try to find the pattern using the fit command. The epochs need to be 10 for this example."
      ],
      "metadata": {
        "id": "ROw_1Axl3k-q"
      },
      "execution_count": null,
      "outputs": []
    },
    {
      "cell_type": "code",
      "source": [
        "myNetwork.fit(train_images, train_labels, epochs=1)"
      ],
      "metadata": {
        "colab": {
          "base_uri": "https://localhost:8080/"
        },
        "id": "XLw_tLwv3nyZ",
        "outputId": "c7e2a5c9-aec4-4104-c493-e1c1cd0a8b06"
      },
      "execution_count": null,
      "outputs": [
        {
          "output_type": "stream",
          "name": "stdout",
          "text": [
            "1875/1875 [==============================] - 14s 7ms/step - loss: 1.5514 - accuracy: 0.4542\n"
          ]
        },
        {
          "output_type": "execute_result",
          "data": {
            "text/plain": [
              "<keras.callbacks.History at 0x7fd97f1ea790>"
            ]
          },
          "metadata": {},
          "execution_count": 41
        }
      ]
    },
    {
      "cell_type": "code",
      "source": [
        "# Q19. How do you compare the fashion_MNIST with what we learned in the class using the MNIST? \n",
        "# What can we infer from the differences in the accuracy? What could be the reasons for that?"
      ],
      "metadata": {
        "id": "kda7FR1P3wGd"
      },
      "execution_count": null,
      "outputs": []
    },
    {
      "cell_type": "code",
      "source": [
        "# Both the MNIST and fashion_MNIST dataset have the same number of training, testig data examples with 10 classes and 28x28 image."
      ],
      "metadata": {
        "id": "jl236vNuA2tM"
      },
      "execution_count": null,
      "outputs": []
    },
    {
      "cell_type": "code",
      "source": [
        "# Q20. Use the evaluate to calculate the achieved accuracy and loss over the test images and labels? "
      ],
      "metadata": {
        "id": "Yi1jzW4r330m"
      },
      "execution_count": null,
      "outputs": []
    },
    {
      "cell_type": "code",
      "source": [
        "myNetwork.evaluate(test_images,test_labels)"
      ],
      "metadata": {
        "colab": {
          "base_uri": "https://localhost:8080/"
        },
        "id": "8GxDyIaB375x",
        "outputId": "2f9af853-b971-4ff0-a1b3-16a04c7dce4d"
      },
      "execution_count": null,
      "outputs": [
        {
          "output_type": "stream",
          "name": "stdout",
          "text": [
            "313/313 [==============================] - 1s 4ms/step - loss: 1.2633 - accuracy: 0.5006\n"
          ]
        },
        {
          "output_type": "execute_result",
          "data": {
            "text/plain": [
              "[1.2632688283920288, 0.5005999803543091]"
            ]
          },
          "metadata": {},
          "execution_count": 43
        }
      ]
    },
    {
      "cell_type": "code",
      "source": [
        "#Q20.(continued)....Do we have overfitting? "
      ],
      "metadata": {
        "id": "RVz5SROl3-UQ"
      },
      "execution_count": null,
      "outputs": []
    },
    {
      "cell_type": "code",
      "source": [
        "# yes, there is the accuracy is a bit lower in test dataset."
      ],
      "metadata": {
        "id": "Ct7WupuLCvUQ"
      },
      "execution_count": null,
      "outputs": []
    }
  ]
}